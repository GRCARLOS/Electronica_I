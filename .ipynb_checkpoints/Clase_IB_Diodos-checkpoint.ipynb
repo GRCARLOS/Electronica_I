{
 "cells": [
  {
   "cell_type": "markdown",
   "metadata": {},
   "source": [
    "# Diodos\n",
    "## Materiales semi-conductores Ge, si, and Gaas\n",
    "\n",
    "La construcción de cada dispositivo electrónico discreto (individual) de estado sólido (estructura cristalina dura) o circuito integrado comienza con un material semiconductor de la más alta calidad.\n",
    "\n",
    "**Los semiconductores son una clase especial de elementos que tienen una conductividad entre la de un buen conductor y la de un aislante.**\n",
    "\n",
    "En general, los materiales semiconductores se dividen en dos clases: monocristalinos y compuestos. Los semiconductores monocristalinos como el germanio (Ge) y el silicio (Si) tienen una estructura cristalina repetitiva, mientras que los semiconductores compuestos como el arseniuro de galio (GaAs), el sulfuro de cadmio (CdS), el nitruro de galio (GaN) y el fosfuro de arseniuro de galio (GaAsP) están construidos con dos o más materiales semiconductores de diferentes estructuras atómicas.\n",
    "\n",
    "**Los tres semiconductores que se utilizan con más frecuencia en la construcción de dispositivos electrónicos son Ge, Si y GaAs.**\n",
    "\n"
   ]
  }
 ],
 "metadata": {
  "language_info": {
   "name": "python"
  },
  "orig_nbformat": 4
 },
 "nbformat": 4,
 "nbformat_minor": 2
}
