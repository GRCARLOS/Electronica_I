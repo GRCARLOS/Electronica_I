{
 "cells": [
  {
   "cell_type": "markdown",
   "metadata": {},
   "source": [
    "# Universidad Popular Autónoma de Veracruz\n",
    "## Electrónica I\n",
    "### Facilitador MIA. Carlos Gómez Rosas\n",
    "\n",
    "### Objetivos: \n",
    "- Comprender las bases teóricas de los diodos y los transistores, así como los fundamentos para el\n",
    "análisis de circuitos electrónicos y su aplicación.\n",
    "\n",
    "- Analizar la respuesta de circuitos electrónicos para diferentes señales de entrada a través de\n",
    "mediciones con osciloscopio."
   ]
  },
  {
   "cell_type": "markdown",
   "metadata": {},
   "source": [
    "# Temas y subtemas (Temario acuerdo con el programa oficial UPAV)\n",
    "\n",
    "### Unidad I. Diodos.\n",
    "1. Materiales semiconductores (tipo n y p).\n",
    "2. Diodo semiconductor.\n",
    "3. Características de los distintos tipos de diodos: Zener, emisor de luz (LED), Schottky, varactores, de potencia, túnel, fotodiodos, emisores infrarrojo, termistores.\n",
    "4. Diodo ideal y circuitos equivalentes\n",
    "5. Niveles de resistencia.\n",
    "6. Hojas de especificaciones.\n",
    "7. Transición y difusión. Tiempo de recuperación inverso.\n",
    "8. Análisis mediante recta de carga.\n",
    "9. Configuraciones en serie, paralelo y serie-paralelo.\n",
    "10. Aplicaciones (compuertas AND/OR, rectificadores, recortadores, multiplicadores, cambiadores\n",
    "de nivel).\n",
    "\n",
    "### Unidad II. Transistores de unión bipolar (BJT).\n",
    "1. Transistor bipolar de unión (BJT).\n",
    "2. Operación y acción amplificadora del BJT.\n",
    "3. Configuraciones del BJT (base común, emisor común y colector común).\n",
    "4. Límites de operación.\n",
    "5. Hojas de especificaciones.\n",
    "6. Fabricación de transistores.\n",
    "7. Pruebas, encapsulado e identificación de terminales. Localización de fallas.\n",
    "8. Redes de conmutación.\n",
    "9. Configuraciones de polarización. Estabilización de la polarización.\n",
    "10. Análisis a pequeña señal.\n",
    "\n",
    "### Unidad III. Transistores de efecto de campo (FET).\n",
    "1. Transistor de efecto de campo (FET).\n",
    "2. Características de transferencia\n",
    "3. Hojas de especificaciones\n",
    "4. Pruebas, encapsulado e identificación de terminales. Localización de fallas\n",
    "5. MOSFET decremental\n",
    "6. MOSFET incremental\n",
    "7. VMOS y CMOS\n",
    "8. Configuraciones de polarización\n",
    "9. Redes combinadas\n",
    "10. Curva universal de polarización\n",
    "11. Análisis a pequeña señal\n",
    "\n",
    "### Unidad IV. Osciloscopio.\n",
    "1. Tubos de ratos catódicos (TRC).\n",
    "2. Osciloscopio.\n",
    "3. Generadores de señales.\n",
    "\n",
    "### Unidad V. Efectos de la impedancia.\n",
    "1. Impedancia de carga.\n",
    "2. Impedancia de fuente.\n",
    "3. Efecto combinado.\n",
    "4. Redes y sistemas en cascada.\n",
    "\n",
    "### Unidad VI. Respuesta en frecuencia.\n",
    "1. Introducción a la respuesta en frecuencia. Logaritmos y decibeles.\n",
    "2. Uso de la gráfica de Bode para el análisis en baja frecuencia.\n",
    "\n"
   ]
  },
  {
   "cell_type": "markdown",
   "metadata": {},
   "source": [
    "### Bibliografía\n",
    "- Electronic Devices and Circuit Theory, Robert L. Boylestad, Louis Nashelsky, Pearson new International Edition, 2014.\n",
    "- Electrónica: Teoría de Circuitos y Dispositivos Electrónicos, Robert L. Boylestad, Louis Nashelsky, Pearson Educación, decimoprimera edición, 2013.\n",
    "\n"
   ]
  },
  {
   "cell_type": "markdown",
   "metadata": {},
   "source": [
    "### Evaluación\n",
    "Porcentajes de evaluación:\n",
    "\n",
    "|Actividad| Porcentaje| \n",
    "| --- | --- | \n",
    "| Asistencia | 5%  |\n",
    "| Participación | 5% |\n",
    "| Tareas | 30 |\n",
    "| Practicas | 15 |\n",
    "| E. Parcial I | 20 |\n",
    "| E. Ordinario / P.final  | 25 |\n",
    "| Total | 100% |"
   ]
  },
  {
   "cell_type": "markdown",
   "metadata": {},
   "source": [
    "### Fechas de evaluación\n",
    "|Actividad| Fecha|\n",
    "| --- | --- |\n",
    "| E. Parcial I | Por definir |   \n",
    "| E. ordinarion /P.final| 2 diciembre 2023 |\n",
    "| Extraordinario | 9 de diciembre de 2023 |\n",
    "| E. titulo suficiencia | 16 diciembre de 2023|"
   ]
  },
  {
   "cell_type": "markdown",
   "metadata": {},
   "source": [
    "### Puntos a considerar \n",
    "- Se utilizara software de simulación de circuitos electrónicos (Multisim, Proteus, etc.) para la realización de prácticas y tareas. El alumno debe  descargar alguno de estos y familizarizarse con el.\n",
    "\n",
    "- Uso de lenguaje de programación python para la realización de tareas y practicas. Se recomienda investigar sobre el uso de jupyter notebook, jupyter lab, google colab, etc. En todas se trabaja con el formato de celdas y no tienen ningun costo. (Desde mi punto de vista el más facil de acceder es google colab, ya que solo se necesita una cuenta de gmail para acceder a el, pero un servidor trabaja con jupyter lab).\n",
    "\n",
    "- Deben considerar la inversión en un multímetro digital, (Alguno de bajo costo es suficiente, ya que se encuentran en proceso de formación).\n",
    "\n",
    "- Las practicas realizadas deben incluir un reporte en formato .pdf, dicho documento de incluir al menos los siguientes puntos:\n",
    "    1. Portada adecuada. Como mínimo debe incluir nombre de la universidad, nombre de la asignatura, nombre de la actividad, Nombre del alumno, Numero de cuatrimestre, lugar y fecha.\n",
    "    2. Objetivos de la practica. Aquí debe mencionarse el objetivo de la practica.\n",
    "    3. Introducción. Debe incluirse una breve introducción donde se comente en que consiste la práctica.\n",
    "    4. Desarrollo. En esta parte deben redactarse el o los pasos realizados que describen el desarrollo de la práctica, si es viable incluya imágenes de los pasos realizados.\n",
    "    5. Observaciones. De la actividad realizada, comente sus observaciones.\n",
    "    6. Referencias. Agregue en esta parte las fuentes que ha consultado para la realización de este trabajo, (Si las hay).\n",
    "    7. Anexos.  En esta parte coloque la lista de materiales utilizados y el diagrama de conexiones si fuera el caso.\n",
    "    8. Todo el texto debe estar justificado.\n",
    "\n",
    "\n",
    "\n"
   ]
  }
 ],
 "metadata": {
  "kernelspec": {
   "display_name": "Python 3 (ipykernel)",
   "language": "python",
   "name": "python3"
  },
  "language_info": {
   "codemirror_mode": {
    "name": "ipython",
    "version": 3
   },
   "file_extension": ".py",
   "mimetype": "text/x-python",
   "name": "python",
   "nbconvert_exporter": "python",
   "pygments_lexer": "ipython3",
   "version": "3.9.1"
  }
 },
 "nbformat": 4,
 "nbformat_minor": 4
}
