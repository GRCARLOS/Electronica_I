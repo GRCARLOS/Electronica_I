{
 "cells": [
  {
   "cell_type": "markdown",
   "metadata": {},
   "source": [
    "# Unniversidad Popular Autónoma de Veracruz\n",
    "## Electrónica I\n",
    "### Facilitador MIA. Carlos Gómez Rosas\n",
    "\n",
    "### Objetivos: \n",
    "- Comprender las bases teóricas de los diodos y los transistores, así como los fundamentos para el\n",
    "análisis de circuitos electrónicos y su aplicación.\n",
    "\n",
    "- Analizar la respuesta de circuitos electrónicos para diferentes señales de entrada a través de\n",
    "mediciones con osciloscopio.\n",
    "\n"
   ]
  }
 ],
 "metadata": {
  "language_info": {
   "name": "python"
  },
  "orig_nbformat": 4
 },
 "nbformat": 4,
 "nbformat_minor": 2
}
