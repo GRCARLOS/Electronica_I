{
 "cells": [
  {
   "cell_type": "markdown",
   "metadata": {},
   "source": [
    "# Materiales semi-conductores Ge, si, and Gaas\n",
    "\n",
    " La construcción de cada dispositivo electrónico discreto (individual) de estado sólido (estructura cristalina dura) o circuito integrado comienza con un material semiconductor de la más alta calidad. \n",
    "\n",
    "**Los semiconductores son una clase especial de elementos que tienen una conductividad entre la de un buen conductor y la de un aislante.**\n",
    "\n",
    "<p style=\"text-align: justify;\"> En general, los materiales semiconductores se dividen en dos clases: monocristalinos y compuestos. Los semiconductores monocristalinos como el germanio (Ge) y el silicio (Si) tienen una estructura cristalina repetitiva, mientras que los semiconductores compuestos como el arseniuro de galio (GaAs), el sulfuro de cadmio (CdS), el nitruro de galio (GaN) y el fosfuro de arseniuro de galio (GaAsP) están construidos con dos o más materiales semiconductores de diferentes estructuras atómicas. </p>\n",
    "\n",
    "**Los tres semiconductores que se utilizan con más frecuencia en la construcción de dispositivos electrónicos son Ge, Si y GaAs.** \n",
    "\n",
    "<p style=\"text-align: justify;\">  En las primeras decadas siguientes al descubrimiento del diodo en 1939 y el transistor en 1947, el germanio se utilizó casi exclusivamente porque era relativamente fácil de encontrar y estaba disponible en cantidades bastante grandes. También fue relativamente fácil refinarlo para obtener niveles muy altos de pureza, un aspecto importante en el proceso de fabricación. Sin embargo, se descubrió en los primeros años que los diodos y transistores construidos con germanio como material base sufrían de bajos niveles de confiabilidad debido principalmente a su sensibilidad a los cambios de temperatura. En ese momento, los científicos sabían que otro material, el silicio, tenía sensibilidades de temperatura mejoradas, pero el proceso de refinación para la fabricación de silicio de muy alto nivel de pureza aún estaba en etapas de desarrollo. Finalmente, sin embargo, en 1954 se introdujo el primer transistor de silicio, y el silicio se convirtió rápidamente en el material semiconductor de elección. El silicio no solo es menos sensible a la temperatura, sino que también es uno de los materiales más abundantes de la tierra, eliminando cualquier preocupación sobre la disponibilidad. Las compuertas ahora se abrieron a este nuevo material, y la tecnología de fabricación y diseño mejoró constantemente a lo largo de los años siguientes hasta el alto nivel actual de sofisticación. </p>\n",
    "\n",
    "\n"
   ]
  },
  {
   "cell_type": "markdown",
   "metadata": {},
   "source": [
    "## Enlace covalente y materiales intrínsecos\n",
    "<p style=\"text-align: justify;\"> En la naturaleza, es posible clasificar cualquier material de acuerdo con los \"ingredientes básicos\" que lo integran. A estos ingredientes básicos se les llama elementos. Y una forma de clasificarlos es de acuerdo con su capacidad para conducir la electricidad. Es decir elementos conductores, aislantes y semiconductores. </p>\n",
    "\n",
    "<p style=\"text-align: justify;\"> De acuerdo a la estructura atomica de cada elemento, es posible identificar a los elementos conductores como aquellos que por lo general tienenen de 1 a 3 electrones en su capa de valencia, como lo es el cobre, que se muestra en la figura  continuación.\n",
    "Los componentes fundamentales de un átomo son el electrón, protón y neutrón. En la estructura de la red, los neutrones y protones forman el núcleo y los electrones aparecen en órbitas fijas alrededor del núcleo.</p>\n",
    "\n",
    "<div>\n",
    "<p style = 'text-align:center;'>\n",
    "<img src=\"IM1/cobre.png\"alt=\"200\" width=\"200\"> \n",
    "</div>\n",
    "</p>\n",
    "\n",
    "<p style=\"text-align: justify;\">Los elementos aislantes son aquellos que tienen 7-8 electrones en su capa de valencia. Es posible encontrar materiales que no son conductores de la electricidad (o son malos haciendolo), estos materiales generalmente se encuentran en forma de compuestos como lo son el agua, el vidrio, la madera, etc. Esto se debe a que por su composición poseen enlaces covalentes como en el caso del agua (H2O), lo que genera que en la capa de valencia haya 8 electrones, impidiendo que la electricidad fluya a través de ellos. En la sig. fig. se muestra el enlace covalente del agua: </p>\n",
    "\n",
    "<div>\n",
    "<p style = 'text-align:center;'>\n",
    "<img src=\"IM1/e_covalente_agua.png\"alt=\"200\" width=\"200\"> \n",
    "</div>\n",
    "</p>\n",
    "\n",
    "\n",
    "<p style = 'text-align: justify;'> Los elementos semiconductores son aquellos que tienen una cantidad intermedia de electrones libres, como el  silicio, germanio, y arseniuro de galio, los cuales son los semiconductores de elección para la industria electrónica. El modelo atomico de Bohr para los tres materiales se proporciona en la siguiente figura. </p>\n",
    "\n",
    "<div>\n",
    "<p style = 'text-align:center;'>\n",
    "<img src=\"IM1/capas_valencia.png\"alt=\"300\" width=\"350\"> \n",
    "</div>\n",
    "</p>\n",
    "\n",
    "<p style = 'text-align: justify;'> Los materiales semiconductores se forman mediante enlaces covalentes entre átomos. En un enlace covalente, los electrones de valencia de cada átomo se comparten con los electrones de valencia de los átomos vecinos. En el caso de los semiconductores, los electrones de valencia de cada átomo se comparten con los electrones de valencia de cuatro átomos vecinos. Esto se ilustra en la siguiente figura para el silicio. </p>\n",
    "\n",
    "<div>\n",
    "<p style = 'text-align:center;'>\n",
    "<img src=\"IM1/e_covalente_silicio.png\"alt=\"300\" width=\"350\"> \n",
    "</div>\n",
    "</p>"
   ]
  },
  {
   "cell_type": "markdown",
   "metadata": {},
   "source": [
    "Sin embargo este enlace no es tan fuerte como el enlace covalente en el diamante,  por lo que si se aplica la cantidad de energía adecuada, un electrón puede romper el enlace covalente y escapar de su átomo, dando lugar a la conducción de electricidad.\n",
    "Los materiales semiconductores exiben un incremento en su nivel de conductividad electrica cuando se incrementa su temperatura, esto se debe a que los electrones de valencia se mueven con mayor libertad a temperaturas más altas, lo que permite que más electrones se muevan a la banda de conducción. Debido a esto se dice que **los semiconductores son materiales que tienen un coficiente de temperatura negativo.**"
   ]
  },
  {
   "cell_type": "markdown",
   "metadata": {},
   "source": [
    "La siguiente figura bosqueja las diferencias de energía  necesaria para que un electrón se mueva de la banda de valencia a la banda de conducción en un material aislante, un semiconductor y un conductor.\n",
    "\n",
    "<div>\n",
    "<p style = 'text-align:center;'>\n",
    "<img src=\"IM1/niveles_energia.png\"alt=\"400\" width=\"650\"> \n",
    "</div>\n",
    "</p>"
   ]
  },
  {
   "cell_type": "markdown",
   "metadata": {},
   "source": [
    "### Materiales extrínsecos\n",
    "\n",
    "Las propiedades de un material semiconductor pueden ser alteradas por la adición de impurezas. Este proceso se llama dopaje y los materiales resultantes se llaman materiales extrínsecos. Los materiales extrínsecos se clasifican en dos tipos: tipo n y tipo p.\n",
    "\n",
    "#### Tipo n\n",
    "En los materiales tipo n, se agrega un átomo de impureza pentavalente (con cinco electrones de valencia) al material semiconductor. Esto electron remanente se convierte en un electrón libre. El átomo de impureza se llama donante porque dona un electrón al material semiconductor. El electrón libre se mueve a la banda de conducción y se convierte en un portador de carga negativa. Por lo tanto, el material semiconductor se convierte en un conductor de carga negativa y se llama semiconductor tipo n. En este tipo de materiales la energia $ E_g $, necesaria para pasar a un modo de conducción, se reduce considrablemente. La siguiente figura muestra el proceso de dopaje de un semiconductor tipo n.\n",
    "\n",
    "<div>\n",
    "<p style = 'text-align:center;'>\n",
    "<img src=\"IM1/material_n.png\"alt=\"300\" width=\"300\"> \n",
    "</div>\n",
    "</p>\n"
   ]
  },
  {
   "cell_type": "markdown",
   "metadata": {},
   "source": [
    "#### Tipo p\n",
    "Un material tipo p se crea agregando un átomo de impureza trivalente (con tres electrones de valencia) al material semiconductor. Esto crea un hueco en la banda de valencia. El átomo de impureza se llama receptor (accept) porque acepta un electrón del material semiconductor. El hueco se mueve a la banda de valencia y se convierte en un portador de carga positiva. Por lo tanto, el material semiconductor se convierte en un conductor de carga positiva y se llama semiconductor tipo p. Este material es electrimente neutro. La siguiente figura muestra el proceso de dopaje de un semiconductor tipo p.\n",
    "\n",
    "<div>\n",
    "<p style = 'text-align:center;'>\n",
    "<img src=\"IM1/material_p.png\"alt=\"300\" width=\"300\"> \n",
    "</div>\n",
    "</p>\n"
   ]
  },
  {
   "cell_type": "markdown",
   "metadata": {},
   "source": [
    "En un material tipo n, los electrones son llamados portadores mayoritarios y los huecos son llamados portadores minoritarios. En un material tipo p, los huecos son llamados portadores mayoritarios y los electrones son llamados portadores minoritarios."
   ]
  }
 ],
 "metadata": {
  "kernelspec": {
   "display_name": "Python 3 (ipykernel)",
   "language": "python",
   "name": "python3"
  },
  "language_info": {
   "codemirror_mode": {
    "name": "ipython",
    "version": 3
   },
   "file_extension": ".py",
   "mimetype": "text/x-python",
   "name": "python",
   "nbconvert_exporter": "python",
   "pygments_lexer": "ipython3",
   "version": "3.9.1"
  }
 },
 "nbformat": 4,
 "nbformat_minor": 4
}
