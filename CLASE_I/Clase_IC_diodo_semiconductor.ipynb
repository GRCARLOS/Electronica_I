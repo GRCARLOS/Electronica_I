{
 "cells": [
  {
   "cell_type": "markdown",
   "metadata": {},
   "source": [
    "# Diodo semiconductor\n",
    "\n",
    "\n",
    "Con el surgimiento de los materiales tipo p y tipo n, se pudo construir  el primer dispositivo electrónico de estado solido: **el diodo semiconductor**. Este dispositivo se construye uniendo un material tipo p con un material tipo n, de tal forma que se forma una unión pn.\n",
    "\n",
    "En la región donde se unen los materiales tipo n y p, se produce una recombinación de electrones y huecos, dando lugar a una zona de carga espacial, donde se produce una acumulación de cargas positivas en el lado n y una acumulación de cargas negativas en el lado p. Esta zona de carga espacial se conoce como zona de deplexión.\n",
    "\n",
    "<img src=\"IM1/simbolo_diodo.png\" width=\"200px\">"
   ]
  },
  {
   "cell_type": "markdown",
   "metadata": {},
   "source": [
    "### Sin aplicación de voltaje\n",
    "\n",
    "Es necesario mencionar que si el voltaje aplicado coincide con la polaridad del diodo, se tiene una polarización directa, y si el voltaje aplicado es contrario a la polaridad del diodo, se tiene una polarización inversa.\n",
    "Si a un diodo semiconductor no se le aplica voltaje, la zona de deplexión se comporta como una barrera de potencial, que impide el paso de corriente eléctrica. En la figura se muestra el diagrama de energía de un diodo semiconductor sin voltaje aplicado.\n",
    "\n",
    "<div>\n",
    "<p style = 'text-align:center;'>\n",
    "<img src=\"IM1/d_no_polarizado.png\"alt=\"200\" width=\"400\"> \n",
    "</div>\n",
    "\n",
    "### Con polarización inversa ($V_{D} < 0$)\n",
    "\n",
    "Si se aplica un voltaje inverso al diodo, la zona de deplexión se ensancha, y la barrera de potencial aumenta, por lo que se dificulta aún más el paso de corriente eléctrica. En la figura se muestra el diagrama de energía de un diodo semiconductor con voltaje inverso aplicado.\n",
    "\n",
    "<div>\n",
    "<p style = 'text-align:center;'>\n",
    "<img src=\"IM1/d_pol_inversa.png\"alt=\"200\" width=\"400\"> \n",
    "</div>\n",
    "\n",
    "### Con polarización directa ($V_{D} > 0$)\n",
    "La aplicación de voltaje de polarización directa al diodo, hace que la zona de deplexión se reduzca, y la barrera de potencial disminuya, por lo que se facilita el paso de corriente eléctrica. En la figura se muestra el diagrama de energía de un diodo semiconductor con voltaje directo aplicado.\n",
    "\n",
    "<div>\n",
    "<p style = 'text-align:center;'>\n",
    "<img src=\"IM1/d_pol_directa.png\"alt=\"200\" width=\"400\"> \n",
    "</div>\n",
    "\n",
    "Las ecuaciones que describen el comportamiento del diodo semiconductor son:\n",
    "\n",
    "$I_{D} = I_{S} \\left( e^{\\frac{V_{D}}{nV_{T}}} - 1 \\right)$\n",
    "\n",
    "Donde $I_{D}$ es la corriente que pasa por el diodo, $I_{S}$ es la corriente de saturación inversa, $V_{D}$ es el voltaje aplicado al diodo, $n$ es el factor de idealidad (valores entre 1y 2) y $V_{T}$ es el voltaje térmico.\n",
    "\n",
    "$V_{T} = \\frac{k*T}{q}$\n",
    "Donde $k$ es la constante de Boltzmann= $1.38 \\times 10^{-23} \\frac{J}{K}$\n",
    ", $T$ es la temperatura absoluta en kelvins = 273+ la temperatura en °Celsius y $q$ es la carga del electrón= $1.6 \\times 10^{-19} C$\n",
    "\n",
    "### Ejemplo ejercicio I\n",
    "\n",
    "A una temperatura de 30 °C (temperatura común para componentes en un sistema operativo cerrado), determine el voltaje térmico $V_{T}$.\n"
   ]
  },
  {
   "cell_type": "code",
   "execution_count": 7,
   "metadata": {},
   "outputs": [
    {
     "name": "stdout",
     "output_type": "stream",
     "text": [
      "El valor del voltaje termico para una temperatura en 30 grados Celsius, es : \n",
      "Vt=  0.026133749999999997 Volts\n",
      "Vt=  26.133749999999996 miliVolts\n"
     ]
    }
   ],
   "source": [
    "# Codigo para resolver el ejemplo\n",
    "C=30 # Temperatura en Celsius\n",
    "T= 273+ C # temperatura en Kelvin + temperarura en Celsius\n",
    "k=1.38 * 10**-23 # Constante de Boltzmann\n",
    "q=1.6e-19 # Carga del electron\n",
    "# Vt= (k*T)/q Solo se introduce la formula tal cual se mostro anteriormente.\n",
    "Vt= (k* T )/ q  \n",
    "# Imprimimos en pantalla los resultados.\n",
    "print(\"El valor del voltaje termico para una temperatura en\",C, \"grados Celsius, es : \")\n",
    "print(\"Vt= \", Vt, \"Volts\")\n",
    "print(\"Vt= \", Vt*1000, \"miliVolts\")"
   ]
  },
  {
   "cell_type": "markdown",
   "metadata": {},
   "source": [
    "# Ejercicio I \n",
    "Calcule el voltaje termico para 3 temperaturas diferentes a las del ejemplo. (Ud proponga esas temperaturas, puede abrir una notebook en collab, copiar el codigo y modificarlo para calcular lo que se solicita, la otra opción es hacerlo de forma manual)."
   ]
  },
  {
   "cell_type": "markdown",
   "metadata": {},
   "source": [
    "# Ejercicio II\n",
    "\n",
    "**Busque en internet la hoja de especificaciones del diodo 1N4001, sera utilizada en la clase siguiente.**"
   ]
  },
  {
   "cell_type": "markdown",
   "metadata": {},
   "source": [
    "# Fuente\n",
    "Boylestad y Nashelsky. Electrónica: Teoría de circuitos y dispositivos electrónicos. Pearson Educación, 2014."
   ]
  }
 ],
 "metadata": {
  "kernelspec": {
   "display_name": "Python 3 (ipykernel)",
   "language": "python",
   "name": "python3"
  },
  "language_info": {
   "codemirror_mode": {
    "name": "ipython",
    "version": 3
   },
   "file_extension": ".py",
   "mimetype": "text/x-python",
   "name": "python",
   "nbconvert_exporter": "python",
   "pygments_lexer": "ipython3",
   "version": "3.9.1"
  }
 },
 "nbformat": 4,
 "nbformat_minor": 4
}
