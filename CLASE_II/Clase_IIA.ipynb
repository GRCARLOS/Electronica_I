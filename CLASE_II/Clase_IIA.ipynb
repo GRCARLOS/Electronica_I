{
 "cells": [
  {
   "cell_type": "markdown",
   "metadata": {},
   "source": [
    "# Curva característica de del diodo\n",
    "Conforme la magnitud del voltaje aplicado aumenta, la corriente que pasa por un diodo aumenta de forma exponencial en polarización directa. En la figura se muestra la curva característica de un diodo semiconductor.\n",
    "<div>\n",
    "<p style = 'text-align:center;'>\n",
    "<img src=\"IM2/curva_diodo.png\"alt=\"200\" width=\"400\"> \n",
    "</div>\n",
    "\n",
    "Por el contrario, para diodos con polarización inversa, la corriente que pasa por el diodo es muy pequeña, del orden de los picoamperes.\n",
    "La dirección definida de la corriente convencional para la región de voltaje positivo coincide con la punta de flecha en el símbolo del diodo, mostrado inicialmente.\n"
   ]
  },
  {
   "cell_type": "markdown",
   "metadata": {},
   "source": [
    "### Región de rompopimiento o región de ruptura\n",
    "\n",
    "\n",
    "Hay un punto donde la aplicación de un voltaje  demasiado negativo con la polaridad inversa dará como resultado un cambio brusco en las características del diodo, como se muestra en la figura a continuación. La corriente aumenta a una tasa muy rápida en una dirección opuesta a la de la región de voltaje positivo. El potencial de polarización inversa que da como resultado este cambio dramático en las características se llama potencial de ruptura y se le da la etiqueta $V_{BV}.\n",
    "\n",
    "<img src=\"IM2/region_ruptura.png\" width=\"300px\">\n",
    "\n",
    "En el punto $v_{BV}$, se genera una avalancha de corriente, por ende a este punto se le conoce como región de rompimiento de avalncha. \n",
    "\n",
    "En esta parte de polarización inversa, a la región antes del punto  $v_{BV}$ se le conoce como región de ruptura Zener, cuyo estudio se desarrollara más adelante.\n",
    "\n",
    "The maximum reverse-bias potential that can be applied before entering the breakdown\n",
    "region is called the peak inverse voltage (referred to simply as the PIV rating) or\n",
    "the peak reverse voltage (denoted the PRV rating).\n",
    "\n",
    "El máximo voltaje de polarización inversa que se puede aplicar antes de ingresar a la región de ruptura se llama voltaje inverso pico (denominado simplemente como calificación PIV) o voltaje inverso pico (denominado voltaje PRV). Peak inverse voltage."
   ]
  },
  {
   "cell_type": "markdown",
   "metadata": {},
   "source": [
    "## Diodos de diferntes materiales.\n",
    "\n",
    "El material con el que se construye un diodo, influye en la forma de comportarse del mismo, por tanto, una de las características más marcadas de acuerdo al material de construcción, es el voltaje de activación o conducción en polarización directa. En la siguiente tabla se muestran los voltajes de activación de diodos de acuerdo al material.\n",
    "\n",
    "<img src= IM2/rutura_polinversa.png width=\"300px\">"
   ]
  },
  {
   "cell_type": "markdown",
   "metadata": {},
   "source": [
    "### Efectos de la temperatura.\n",
    "\n",
    "Al igual que con otros materiales, la temperatura afecta el comportamiento de los diodos, desplazando el volataje de activación en polarización directa y el voltaje de ruptura en polarización inversa. La siguiente grafica, muestra el comportamiento de un diodo de silicio a diferentes temperaturas.\n",
    "\n",
    "<img src= IM2/temperatura_diodo.png width=\"300px\">"
   ]
  },
  {
   "cell_type": "markdown",
   "metadata": {},
   "source": [
    "# Resistencia en un diodo.\n",
    "\n",
    "De acuerdo al tipo de voltaje con el que se este polarizando a un diodo, la resisencia puede ser estatica o dinámica.\n",
    "- La resistencia estatica se calcula utilizando ley de Ohm directamente.\n",
    "- La resistencia dinámica se calcula utilizando la pendiente de la curva caracteristica del diodo, es decir calculando la diferencia entre dos puntos de la curva, ubicando al punto de interés en el medio de estos dos puntos. Entre mas cerca se encuentren estos puntos, el calculo sera más proximo al valor real de la resistencia.\n",
    "\n",
    "<img src= IM2/niveles_resistencia.png width=\"400px\">"
   ]
  },
  {
   "cell_type": "markdown",
   "metadata": {},
   "source": [
    "# Circuito equivalente del diodo.\n",
    "\n",
    "Un circuito equivalente es una combinación de elementos elegidos adecuadamente para representar mejor las características terminales reales de un dispositivo o sistema en una región de operación particular. En otras palabras, una vez que se define el circuito equivalente, el símbolo del dispositivo se puede eliminar de un esquema y el circuito equivalente se puede insertar en su lugar sin afectar severamente el comportamiento real del sistema. El resultado es a menudo una red que se puede resolver utilizando técnicas tradicionales de análisis de circuitos.\n",
    "Para el diod, tenemos lo siguientes modelos:\n",
    "\n",
    "- Circuito equivalente lineal por partes.\n",
    "- Circuito equivalente simplificado.\n",
    "- Circuito equivalente ideal.\n",
    "\n",
    "La siguiente tabla, muestra los modelos de circuito equivalente para el diodo.\n",
    "\n",
    "<img src= IM2/circuito_equivalente.png width=\"500px\">"
   ]
  },
  {
   "cell_type": "markdown",
   "metadata": {},
   "source": [
    "# Tiempo de recuperación inversa. reverse recovery time  ($t_{rr}$).\n",
    "\n",
    "Cuando un diodo se encuentra en estado de conducción es decir en un estado de encendido y pasa a un estado de apagado, el flujo de corriente que circula por el no se detendra de forma inmediata, por el contrario se creara un pequeño flujo de corriente en sentido inverso, hasta que los portadores de carga que se encuentran en la zona de deplexión se recombinen. Este tiempo que tarda el diodo en pasar de un estado de conducción a un estado de apagado se conoce como tiempo de recuperación inversa $t_{rr}$, el cua a su vez se compone de dos tiempos: $t_{s}$ tiempo de almacenamiento y $t_{t}$ tiempo de transición.\n",
    "\n",
    "<img src= IM2/t_transicion.png width=\"300px\">\n",
    "\n",
    "# Hoja de especificaciones del diodo.\n",
    "\n",
    "La información de un dispositvo semiconductor se puede encontrar en una hoja de especificaciones, la cual es proporcionada por el fabricante. En esta hoja se incluyen los siguientes datos, generalmente en idioma ingles como se cita a continuación:\n",
    "\n",
    "1. The forward voltage VF (at a specified current and temperature)\n",
    "2. The maximum forward current IF (at a specified temperature)\n",
    "3. The reverse saturation current IR (at a specified voltage and temperature)\n",
    "4. The reverse-voltage rating [PIV or PRV or V(BR), where BR comes from the term\n",
    "“breakdown” (at a specified temperature)]\n",
    "5. The maximum power dissipation level at a particular temperature\n",
    "6. Capacitance levels\n",
    "7. Reverse recovery time trr\n",
    "8. Operating temperature range."
   ]
  }
 ],
 "metadata": {
  "language_info": {
   "name": "python"
  },
  "orig_nbformat": 4
 },
 "nbformat": 4,
 "nbformat_minor": 2
}
